{
 "cells": [
  {
   "cell_type": "code",
   "execution_count": 1,
   "metadata": {
    "scrolled": true
   },
   "outputs": [],
   "source": [
    "import torch\n",
    "from rnn_vd import GRUVD\n",
    "from torch.nn import GRU"
   ]
  },
  {
   "cell_type": "code",
   "execution_count": 2,
   "metadata": {},
   "outputs": [],
   "source": [
    "model = GRUVD(10, 32, num_layers=11, batch_first=True, bidirectional=True)\n",
    "model_gru = GRU(10, 32, num_layers=11, batch_first=True, bidirectional=True)\n",
    "\n",
    "x = torch.randn(4, 17, 10)\n",
    "\n",
    "out, h = model(x)"
   ]
  },
  {
   "cell_type": "code",
   "execution_count": 3,
   "metadata": {},
   "outputs": [
    {
     "data": {
      "text/plain": [
       "(torch.Size([4, 17, 64]), torch.Size([22, 4, 32]))"
      ]
     },
     "execution_count": 3,
     "metadata": {},
     "output_type": "execute_result"
    }
   ],
   "source": [
    "out.shape, h.shape"
   ]
  },
  {
   "cell_type": "code",
   "execution_count": 4,
   "metadata": {},
   "outputs": [
    {
     "data": {
      "text/plain": [
       "(torch.Size([4, 17, 64]), torch.Size([22, 4, 32]))"
      ]
     },
     "execution_count": 4,
     "metadata": {},
     "output_type": "execute_result"
    }
   ],
   "source": [
    "out, h = model(x, h)\n",
    "out.shape, h.shape"
   ]
  },
  {
   "cell_type": "code",
   "execution_count": 5,
   "metadata": {},
   "outputs": [
    {
     "data": {
      "text/plain": [
       "True"
      ]
     },
     "execution_count": 5,
     "metadata": {},
     "output_type": "execute_result"
    }
   ],
   "source": [
    "model.from_module(model_gru);\n",
    "d = model.layers[0].straight.cell.linear_ih.weight\n",
    "dd = model_gru.weight_ih_l0\n",
    "torch.allclose(d, dd)"
   ]
  },
  {
   "cell_type": "code",
   "execution_count": 6,
   "metadata": {},
   "outputs": [
    {
     "data": {
      "text/plain": [
       "tensor(560412.0625, grad_fn=<AddBackward0>)"
      ]
     },
     "execution_count": 6,
     "metadata": {},
     "output_type": "execute_result"
    }
   ],
   "source": [
    "from cplxmodule.nn.relevance.base import penalties\n",
    "\n",
    "sum(penalties(model))"
   ]
  },
  {
   "cell_type": "code",
   "execution_count": 7,
   "metadata": {},
   "outputs": [],
   "source": [
    "from rnn_vd.attention import Attention, DotProductScore"
   ]
  },
  {
   "cell_type": "code",
   "execution_count": 8,
   "metadata": {},
   "outputs": [],
   "source": [
    "enc = GRU(10, 16, num_layers=1)\n",
    "dec = GRU(10, 16, num_layers=1)\n",
    "\n",
    "score = DotProductScore()\n",
    "\n",
    "attention = Attention(score=score)"
   ]
  },
  {
   "cell_type": "code",
   "execution_count": 10,
   "metadata": {},
   "outputs": [],
   "source": [
    "x_i = torch.randn(32, 13, 10)\n",
    "x_o = torch.randn(32, 15, 10)\n",
    "\n",
    "inputs, h_i = enc(x_i)\n",
    "outputs, h_o = dec(x_o)\n",
    "\n",
    "context, weights = attention(inputs, outputs)"
   ]
  },
  {
   "cell_type": "code",
   "execution_count": 12,
   "metadata": {},
   "outputs": [
    {
     "data": {
      "text/plain": [
       "tensor([[0.0801, 0.0647, 0.0570, 0.0706, 0.0914, 0.0602, 0.0792, 0.0858, 0.0755,\n",
       "         0.0891, 0.0833, 0.0917, 0.0712],\n",
       "        [0.0785, 0.0721, 0.0719, 0.0920, 0.0783, 0.0812, 0.0725, 0.0750, 0.0832,\n",
       "         0.0811, 0.0707, 0.0782, 0.0654],\n",
       "        [0.0794, 0.0712, 0.0635, 0.0821, 0.0823, 0.0741, 0.0772, 0.0796, 0.0730,\n",
       "         0.0891, 0.0755, 0.0833, 0.0697],\n",
       "        [0.0715, 0.0734, 0.0650, 0.0866, 0.0823, 0.1004, 0.0751, 0.0672, 0.0671,\n",
       "         0.0953, 0.0655, 0.0772, 0.0735],\n",
       "        [0.0801, 0.0699, 0.0579, 0.0780, 0.0890, 0.0705, 0.0745, 0.0794, 0.0768,\n",
       "         0.0822, 0.0890, 0.0855, 0.0671],\n",
       "        [0.0846, 0.0612, 0.0639, 0.0990, 0.0847, 0.0812, 0.0668, 0.0692, 0.0768,\n",
       "         0.0964, 0.0646, 0.0914, 0.0600],\n",
       "        [0.0769, 0.0613, 0.0586, 0.1187, 0.0837, 0.0972, 0.0616, 0.0595, 0.0732,\n",
       "         0.1063, 0.0603, 0.0836, 0.0593],\n",
       "        [0.0865, 0.0608, 0.0863, 0.0751, 0.0835, 0.0794, 0.0671, 0.0682, 0.0882,\n",
       "         0.0683, 0.0741, 0.0904, 0.0720],\n",
       "        [0.0694, 0.0915, 0.0619, 0.0819, 0.0734, 0.0672, 0.0900, 0.0886, 0.0697,\n",
       "         0.0932, 0.0765, 0.0666, 0.0702],\n",
       "        [0.0991, 0.0548, 0.0601, 0.0606, 0.0940, 0.0578, 0.0708, 0.0787, 0.0738,\n",
       "         0.0858, 0.0885, 0.1129, 0.0632],\n",
       "        [0.0793, 0.0708, 0.0707, 0.0914, 0.0740, 0.0883, 0.0770, 0.0775, 0.0671,\n",
       "         0.0990, 0.0559, 0.0826, 0.0665],\n",
       "        [0.0788, 0.0655, 0.0569, 0.0934, 0.0812, 0.1020, 0.0727, 0.0692, 0.0598,\n",
       "         0.1147, 0.0560, 0.0883, 0.0616],\n",
       "        [0.0770, 0.0632, 0.0813, 0.0844, 0.0788, 0.0920, 0.0737, 0.0709, 0.0780,\n",
       "         0.0879, 0.0553, 0.0827, 0.0748],\n",
       "        [0.0811, 0.0695, 0.0862, 0.0900, 0.0731, 0.0949, 0.0712, 0.0703, 0.0790,\n",
       "         0.0794, 0.0573, 0.0809, 0.0670],\n",
       "        [0.0703, 0.0918, 0.0851, 0.0912, 0.0648, 0.0771, 0.0805, 0.0812, 0.0771,\n",
       "         0.0750, 0.0680, 0.0644, 0.0735]], grad_fn=<SelectBackward>)"
      ]
     },
     "execution_count": 12,
     "metadata": {},
     "output_type": "execute_result"
    }
   ],
   "source": [
    "weights[0]"
   ]
  },
  {
   "cell_type": "code",
   "execution_count": 16,
   "metadata": {},
   "outputs": [
    {
     "data": {
      "text/plain": [
       "rnn_vd.attention.DotProductScore"
      ]
     },
     "execution_count": 16,
     "metadata": {},
     "output_type": "execute_result"
    }
   ],
   "source": [
    "score.__class__"
   ]
  },
  {
   "cell_type": "code",
   "execution_count": null,
   "metadata": {},
   "outputs": [],
   "source": []
  }
 ],
 "metadata": {
  "kernelspec": {
   "display_name": "Python 3",
   "language": "python",
   "name": "python3"
  },
  "language_info": {
   "codemirror_mode": {
    "name": "ipython",
    "version": 3
   },
   "file_extension": ".py",
   "mimetype": "text/x-python",
   "name": "python",
   "nbconvert_exporter": "python",
   "pygments_lexer": "ipython3",
   "version": "3.7.3"
  }
 },
 "nbformat": 4,
 "nbformat_minor": 2
}
